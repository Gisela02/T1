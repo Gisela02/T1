{
 "cells": [
  {
   "cell_type": "code",
   "execution_count": null,
   "metadata": {},
   "outputs": [],
   "source": [
    "import numpy as np\n",
    "import matplotlib.pyplot as plt\n",
    "import soundfile as sf\n",
    "import sounddevice as sd \n",
    "from numpy.fft import fft \n",
    "import math as ma"
   ]
  },
  {
   "cell_type": "code",
   "execution_count": null,
   "metadata": {},
   "outputs": [],
   "source": [
    "T= 2.5                              \n",
    "fm=8000                              \n",
    "fx=4000                               \n",
    "A=4                                  \n",
    "pi=np.pi                             \n",
    "L = int(fm * T)                     \n",
    "Tm=1/fm                              \n",
    "t=Tm*np.arange(L)                   \n",
    "x = A * np.cos(2 * pi * fx * t)      \n",
    "sf.write('exercici1.wav', x, fm)  \n",
    "x_r, fm = sf.read('exercici1.wav')\n",
    "\n",
    "Tx=1/fx                                   \n",
    "Ls=int(fm*5*Tx)                           \n",
    "\n",
    "plt.figure(0)                             \n",
    "plt.plot(t[0:Ls], x[0:Ls])               \n",
    "plt.xlabel('t en segons')                 \n",
    "plt.title('5 periodes de la sinusoide')   \n",
    "plt.show() "
   ]
  }
 ],
 "metadata": {
  "kernelspec": {
   "display_name": "Python 3",
   "language": "python",
   "name": "python3"
  },
  "language_info": {
   "name": "python",
   "version": "-1.-1.-1"
  },
  "orig_nbformat": 4,
  "vscode": {
   "interpreter": {
    "hash": "c41245681b0c5dfdc198064911b7c792a0421ee2cbedc4ec4c9079156fd03e41"
   }
  }
 },
 "nbformat": 4,
 "nbformat_minor": 2
}
